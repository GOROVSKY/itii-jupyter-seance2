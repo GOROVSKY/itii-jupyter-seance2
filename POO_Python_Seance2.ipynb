{
 "cells": [
  {
   "cell_type": "markdown",
   "metadata": {},
   "source": [
    "# ex1:"
   ]
  },
  {
   "cell_type": "code",
   "execution_count": 16,
   "metadata": {},
   "outputs": [
    {
     "name": "stdout",
     "output_type": "stream",
     "text": [
      "20\n",
      "18\n",
      "30\n",
      "22\n",
      "70\n"
     ]
    }
   ],
   "source": [
    "class Rectangle():\n",
    "    def __init__(self,longueur,largeur):\n",
    "        self.longueur=longueur\n",
    "        self.largeur=largeur\n",
    "        \n",
    "    def getLongueur(self):\n",
    "        return self.longueur\n",
    "    \n",
    "    def getLargeur(self):\n",
    "        return self.largeur\n",
    "    \n",
    "    def setLongueur(self, longueur):\n",
    "        self.longueur = longueur\n",
    "        \n",
    "    def setLargeur(self, largeur):\n",
    "        self.largeur = largeur\n",
    "    \n",
    "    def Aire(self):\n",
    "        return self.longueur*self.largeur\n",
    "    \n",
    "    def Perimetre(self):\n",
    "        return 2*self.longueur+2*self.largeur\n",
    "    \n",
    "class Parallelepipede(Rectangle):\n",
    "    def __init__(self,hauteur, longueur, largeur):\n",
    "        self.hauteur=hauteur\n",
    "        super().__init__(longueur, largeur)\n",
    "        \n",
    "    def Volume(self):\n",
    "        return self.Aire()*self.hauteur\n",
    "    \n",
    "    \n",
    "rectangle=Rectangle(5,4)\n",
    "parallelepipede=Parallelepipede(7, 5, 2)\n",
    "print(rectangle.Aire())\n",
    "print(rectangle.Perimetre())\n",
    "rectangle.setLongueur(rectangle.getLongueur()+1)\n",
    "rectangle.setLargeur(rectangle.getLargeur()+1)\n",
    "print(rectangle.Aire())\n",
    "print(rectangle.Perimetre())\n",
    "print(parallelepipede.Volume())\n",
    "    "
   ]
  },
  {
   "cell_type": "markdown",
   "metadata": {},
   "source": [
    "# Ex2:\n"
   ]
  },
  {
   "cell_type": "code",
   "execution_count": 24,
   "metadata": {},
   "outputs": [
    {
     "name": "stdout",
     "output_type": "stream",
     "text": [
      "(4,9)\n",
      "(11,12)\n"
     ]
    }
   ],
   "source": [
    "class Vecteur2D():\n",
    "    \n",
    "    def __init__(self, x, y):\n",
    "        self.x = x\n",
    "        self.y = y\n",
    "        \n",
    "    def affichage(self):\n",
    "        print(\"(\" + str(self.x) + \",\" + str(self.y) + \")\")\n",
    "        \n",
    "    def addition(self, vecteur: Vecteur2D):\n",
    "        self.x += vecteur.x\n",
    "        self.y += vecteur.y\n",
    "    \n",
    "vecteur = Vecteur2D(4, 9)\n",
    "vecteur2 = Vecteur2D(7, 3)\n",
    "vecteur.affichage()\n",
    "vecteur.addition(vecteur2)\n",
    "vecteur.affichage()"
   ]
  },
  {
   "cell_type": "markdown",
   "metadata": {},
   "source": [
    "# Ex3:\n"
   ]
  },
  {
   "cell_type": "code",
   "execution_count": 41,
   "metadata": {},
   "outputs": [
    {
     "name": "stdout",
     "output_type": "stream",
     "text": [
      "[5]\n",
      "[]\n",
      "[5, 53]\n",
      "[53]\n",
      "[]\n"
     ]
    }
   ],
   "source": [
    "class Base(object):\n",
    "    def pop(self):\n",
    "        pass\n",
    "    def push(self, elt):\n",
    "        pass\n",
    "\n",
    "class Pile(Base):\n",
    "    def __init__(self):\n",
    "        self.liste=[]\n",
    "    \n",
    "    def pop(self):\n",
    "        if(len(self.liste)!=0):\n",
    "            del self.liste[len(self.liste)-1]\n",
    "            \n",
    "    def push(self,valeur):\n",
    "        self.liste.append(valeur)\n",
    "            \n",
    "    def affichage(self):\n",
    "        print(self.liste)\n",
    "\n",
    "class File(Base):\n",
    "    def __init__(self):\n",
    "        self.liste=[]\n",
    "    \n",
    "    def pop(self):\n",
    "        if(len(self.liste)!=0):\n",
    "            del self.liste[0]\n",
    "            \n",
    "    def push(self,valeur):\n",
    "        self.liste.append(valeur)\n",
    "            \n",
    "    def affichage(self):\n",
    "        print(self.liste)\n",
    "            \n",
    "pile = Pile()\n",
    "pile.push(5)\n",
    "pile.affichage()\n",
    "pile.pop()\n",
    "pile.affichage()\n",
    "\n",
    "file = File()\n",
    "file.push(5)\n",
    "file.push(53)\n",
    "file.affichage()\n",
    "file.pop()\n",
    "file.affichage()\n",
    "file.pop()\n",
    "file.affichage()"
   ]
  },
  {
   "cell_type": "markdown",
   "metadata": {},
   "source": [
    "# Ex4:"
   ]
  },
  {
   "cell_type": "code",
   "execution_count": 46,
   "metadata": {},
   "outputs": [
    {
     "name": "stdout",
     "output_type": "stream",
     "text": [
      "(25+9j)\n"
     ]
    }
   ],
   "source": [
    "class Mandelbrot():\n",
    "    def f(self,z,c):\n",
    "        print(z.real*z.real - z.imag*z.imag + c)\n",
    "        \n",
    "    def iterer(self,c):\n",
    "        iteration = 0\n",
    "        while(iteration < 10000):\n",
    "               iteration += 1\n",
    "        \n",
    "mandelbrot = Mandelbrot()\n",
    "z = complex(5, 2)\n",
    "c = complex(4, 9)\n",
    "mandelbrot.f(z,c)"
   ]
  }
 ],
 "metadata": {
  "kernelspec": {
   "display_name": "Python 3",
   "language": "python",
   "name": "python3"
  },
  "language_info": {
   "codemirror_mode": {
    "name": "ipython",
    "version": 3
   },
   "file_extension": ".py",
   "mimetype": "text/x-python",
   "name": "python",
   "nbconvert_exporter": "python",
   "pygments_lexer": "ipython3",
   "version": "3.7.0"
  }
 },
 "nbformat": 4,
 "nbformat_minor": 2
}
